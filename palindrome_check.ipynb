{
  "nbformat": 4,
  "nbformat_minor": 0,
  "metadata": {
    "colab": {
      "provenance": []
    },
    "kernelspec": {
      "name": "python3",
      "display_name": "Python 3"
    },
    "language_info": {
      "name": "python"
    }
  },
  "cells": [
    {
      "cell_type": "code",
      "execution_count": 1,
      "metadata": {
        "id": "oMvz4LYUugeH"
      },
      "outputs": [],
      "source": [
        "#Libraries for numeric computation and visualization\n",
        "import numpy as np\n",
        "import numpy.ma as ma\n",
        "import pandas as pd\n",
        "import random\n",
        "\n",
        "import matplotlib.pyplot as plt\n"
      ]
    },
    {
      "cell_type": "markdown",
      "source": [
        "![ll.png](data:image/png;base64,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)"
      ],
      "metadata": {
        "id": "KZ_Hah2y2Wkv"
      }
    },
    {
      "cell_type": "code",
      "source": [
        "# Sigmoid non linearity function is used by the hidden layer and output neuron\n",
        "\n",
        "def sigmoid(x):\n",
        "    return 1 / (1 + np.exp(-x))\n",
        "\n",
        "\n",
        "# derivative of sigmoid w.r.t z1\n",
        "\n",
        "def sigmoid_derivative(z):\n",
        "  return z*(1 - z)"
      ],
      "metadata": {
        "id": "KGpuQtT1uq-_"
      },
      "execution_count": 2,
      "outputs": []
    },
    {
      "cell_type": "code",
      "source": [
        "# initializing random weights and bias\n",
        "def defParameter(n , hid, out):\n",
        "  np.random.seed(42)\n",
        "  W1 = np.random.rand(n,hid)\n",
        "  W2 = np.random.rand(hid,out)\n",
        "  b1 = np.zeros((1,hid))\n",
        "  b2 = np.zeros((1,out))\n",
        "\n",
        "  # Initialize velocities for momentum of weights and bias that will increase the convergence speed and local minima\n",
        "  vW1 = np.zeros_like(W1)\n",
        "  vb1 = np.zeros_like(b1)\n",
        "  vW2 = np.zeros_like(W2)\n",
        "  vb2 = np.zeros_like(b2)\n",
        "  return W1, W2, b1, b2,vW1,vb1,vW2,vb2"
      ],
      "metadata": {
        "id": "OH-3UKXcusnK"
      },
      "execution_count": 3,
      "outputs": []
    },
    {
      "cell_type": "code",
      "source": [
        "# split data into\n",
        "def splitData(X, y):\n",
        "    np.random.seed(42)\n",
        "    arr_rand = np.random.rand(X.shape[0])\n",
        "    split = arr_rand < np.percentile(arr_rand, 80)\n",
        "\n",
        "    X_train = X[split]\n",
        "    y_train = y[split]\n",
        "    X_test =  X[~split]\n",
        "    y_test = y[~split]\n",
        "\n",
        "    return X_train, y_train, X_test, y_test"
      ],
      "metadata": {
        "id": "9q6ymQVAuubv"
      },
      "execution_count": 4,
      "outputs": []
    },
    {
      "cell_type": "code",
      "source": [
        "# Update weights and bias using hyperparameters-- learning rate and momentum\n",
        "\n",
        "def updateParameter(W1, W2, b1, b2,vW1,vb1,vW2,vb2,b,lr,momentum):\n",
        "  vW1 = momentum * vW1 - lr *b[\"dW1\"]\n",
        "  vb1 = momentum * vb1 - lr * b[\"db1\"]\n",
        "  vW2 = momentum * vW2 - lr * b[\"dW2\"]\n",
        "  vb2 = momentum * vb2 - lr * b[\"db2\"]\n",
        "  W1 = W1 +  vW1\n",
        "  W2 = W2 + vW2\n",
        "  b1 = b1 + vb1\n",
        "  b2 = b2 + vb2\n",
        "  return W1, W2, b1, b2"
      ],
      "metadata": {
        "id": "nW1qaMdquwcN"
      },
      "execution_count": 5,
      "outputs": []
    },
    {
      "cell_type": "code",
      "source": [
        "# forwarding the information from inputs X(10x1), W1(10x2), W2(2x1), b1(2x1),b2(1x1)\n",
        "def forwardPass(W1, W2, b1, b2, X):\n",
        "  v = {}\n",
        "  v[\"neth1\"] = np.dot(X, W1) + b1 # linear function between input and weights\n",
        "  v[\"H1\"] = sigmoid(v[\"neth1\"]) # Activation function is used to capture Non Linearity in inputs\n",
        "  v[\"neto1\"] = np.dot(v[\"H1\"], W2) + b2\n",
        "  v[\"O1\"] = sigmoid(v[\"neto1\"]) # To get the probability of input being palindrome or not\n",
        "  return v"
      ],
      "metadata": {
        "id": "t5KDzqOsuyC_"
      },
      "execution_count": 6,
      "outputs": []
    },
    {
      "cell_type": "code",
      "source": [
        "\n",
        "def backwardPass(W2, b2, X, Y, v):\n",
        "  d = {}\n",
        "\n",
        "  d[\"dd1\"] = v[\"O1\"] - Y\n",
        "  d[\"dW2\"] = np.dot(v[\"H1\"].T, d[\"dd1\"])\n",
        "  d[\"db2\"] = np.sum(d[\"dd1\"])\n",
        "  d[\"dd2\"] = np.dot(d[\"dd1\"], W2.T) * sigmoid_derivative(v[\"H1\"])\n",
        "  d[\"db1\"] = np.sum(d[\"dd2\"])\n",
        "  d[\"dW1\"] = np.dot(X.T, d[\"dd2\"])\n",
        "  return d"
      ],
      "metadata": {
        "id": "b0Iyc24suz_J"
      },
      "execution_count": 7,
      "outputs": []
    },
    {
      "cell_type": "code",
      "source": [
        "#Accuracy of predicting input as palindrom or not\n",
        "def compute_metric(target, pred):\n",
        "  acc = np.sum(target == pred)*100/len(target)\n",
        "  return acc"
      ],
      "metadata": {
        "id": "DL3zW__fu1q8"
      },
      "execution_count": 8,
      "outputs": []
    },
    {
      "cell_type": "code",
      "source": [
        "# Uses the updated weights(W1,W2,b1,b2) to classify the input as palindrome(1) or non palindrome(2) based on 50% as threshold\n",
        "def predict(W1, W2, b1, b2, input):\n",
        "  neth1 = np.dot(input, W1) + b1\n",
        "  H1 = sigmoid(neth1)\n",
        "  neto1 = np.dot(H1, W2) + b2\n",
        "  O1 = sigmoid(neto1)\n",
        "  p = O1 > 0.5\n",
        "  return p.astype(int)"
      ],
      "metadata": {
        "id": "FK3FlbFdu3Ku"
      },
      "execution_count": 9,
      "outputs": []
    },
    {
      "cell_type": "code",
      "source": [
        "# Training the model to find the optimal values of weights that reduce the loss using gradient descent optimization.\n",
        "\n",
        "def model(n, hid, out, iter, X, Y, lr):\n",
        "  param = {}\n",
        "  W1, W2, b1, b2,vW1,vb1,vW2,vb2 = defParameter(n, hid, out) # initialize parameters\n",
        "  X_train, Y_train = X,Y\n",
        "  for i in range(iter): # run through number of iterations\n",
        "       f = forwardPass(W1, W2, b1, b2, X_train) # forward over training input\n",
        "       b = backwardPass(W2, b2, X_train, Y_train, f)\n",
        "       W1, W2, b1, b2 = updateParameter(W1, W2, b1, b2,vW1,vb1,vW2,vb2,b,lr,momentum)\n",
        "  # store the parameters values in param dictionary\n",
        "  param[\"W1\"] = W1\n",
        "  param[\"W2\"] = W2\n",
        "  param[\"b1\"] = b1\n",
        "  param[\"b2\"] = b2\n",
        "  return param"
      ],
      "metadata": {
        "id": "38tkJblMu433"
      },
      "execution_count": 10,
      "outputs": []
    },
    {
      "cell_type": "code",
      "source": [
        "df = pd.read_csv('Dataset_Pal.csv') #Load paindrome dataset\n",
        "df = df.apply(pd.to_numeric)\n",
        "data = df.to_numpy(dtype=float)     # convert dataframe to numpy\n",
        "print(data.shape)\n",
        "\n",
        "np.random.seed(42)\n",
        "lr = 0.01\n",
        "momentum = 0.0"
      ],
      "metadata": {
        "colab": {
          "base_uri": "https://localhost:8080/"
        },
        "id": "eUQ0kd520VrV",
        "outputId": "2d2059df-c90f-43d0-cbba-2238ad261e9a"
      },
      "execution_count": 11,
      "outputs": [
        {
          "output_type": "stream",
          "name": "stdout",
          "text": [
            "(1024, 11)\n"
          ]
        }
      ]
    },
    {
      "cell_type": "code",
      "source": [
        "# Shuffle the data and divide into 4 blocks for 4 fold validation\n",
        "np.random.seed(42)\n",
        "np.random.shuffle(data)\n",
        "\n",
        "block1 = data[:256,:]\n",
        "block2 = data[256:512,:]\n",
        "block3 = data[512:768,:]\n",
        "block4 = data[768:,:]"
      ],
      "metadata": {
        "id": "bzFpBO5H0SaI"
      },
      "execution_count": 12,
      "outputs": []
    },
    {
      "cell_type": "code",
      "source": [
        "#Get the accuracy of given data\n",
        "def acc_check(X_valid,Y_valid, param):\n",
        "  pred_valid = predict(param[\"W1\"], param[\"W2\"], param[\"b1\"], param[\"b2\"],X_valid)\n",
        "  valid_acc = compute_metric(Y_valid,pred_valid)\n",
        "  return(valid_acc)"
      ],
      "metadata": {
        "id": "dymNOQ6j8SQL"
      },
      "execution_count": 13,
      "outputs": []
    },
    {
      "cell_type": "code",
      "source": [
        "def confusion_mat(prediction,n,Y_test):\n",
        "  #Precision = TP/(TP + FP)\n",
        "  #Recall = TP/(TP + FN)\n",
        "  #F1 = 2PR/(P+R)\n",
        "\n",
        "  TP = []\n",
        "  FP = []\n",
        "  FN = []\n",
        "  TN = []\n",
        "\n",
        "  for i in range(n):\n",
        "    if prediction[i] ==1 and Y_test[i]==1:\n",
        "      TP.append(1)\n",
        "    elif prediction[i] ==1 and Y_test[i]==0:\n",
        "      FP.append(1)\n",
        "    elif prediction[i] ==0 and Y_test[i]==1:\n",
        "      FN.append(1)\n",
        "    else:\n",
        "      TN.append(1)\n",
        "  if sum(TP) != 0:\n",
        "    P = sum(TP)/(sum(TP) + sum(FP))\n",
        "    R = sum(TP)/(sum(TP) + sum(FN))\n",
        "    F1 = (2*P*R)/(P+R)\n",
        "  else:\n",
        "    P = 0\n",
        "    R = 0\n",
        "    F1 = 0\n",
        "\n",
        "\n",
        "  return(P,R,F1)"
      ],
      "metadata": {
        "id": "WPLkAGth8XPR"
      },
      "execution_count": 14,
      "outputs": []
    },
    {
      "cell_type": "code",
      "source": [
        "ep = 20000\n",
        "lr = 0.01\n",
        "\n",
        "#4-Fold division of input data\n",
        "valid_acc,test_acc,Precision,Recall,F1 = [],[],[],[],[]\n",
        "# First iteration\n",
        "X_test = block4[:,0:10]\n",
        "Y_test = block4[:,10:11]\n",
        "X =  np.ma.row_stack ((block1,block2,block3))\n",
        "X_train = X[:,0:10]\n",
        "Y_train = X[:,10:11]\n",
        "\n",
        "param1  = model(10,2,1,20000,X_train,Y_train, lr)\n",
        "test_acc.append(acc_check(X_test,Y_test,param1))\n",
        "prediction = predict(param1[\"W1\"], param1[\"W2\"], param1[\"b1\"], param1[\"b2\"],X_test)\n",
        "P, R, A = confusion_mat(prediction,len(X_test),Y_test)\n",
        "print('Precision, Recall, F1 Score :',(P,R,A))\n",
        "Precision.append(P), Recall.append(R), F1.append(A)\n",
        "print('Test Accuracy :', test_acc)\n",
        "print('******************************************************************')\n",
        "\n",
        "# second iteration\n",
        "X_test = block3[:,0:10]\n",
        "Y_test = block3[:,10:11]\n",
        "X =  np.ma.row_stack ((block4,block1,block2))\n",
        "X_train = X[:,0:10]\n",
        "Y_train = X[:,10:11]\n",
        "\n",
        "param2  = model(10,2,1,20000,X_train,Y_train, lr)\n",
        "test_acc.append(acc_check(X_test,Y_test,param2))\n",
        "prediction = predict(param2[\"W1\"], param2[\"W2\"], param2[\"b1\"], param2[\"b2\"],X_test)\n",
        "P, R, A = confusion_mat(prediction,len(X_test),Y_test)\n",
        "print('Precision, Recall, F1 Score :',(P,R,A))\n",
        "Precision.append(P), Recall.append(R), F1.append(A)\n",
        "print('Test Accuracy :', test_acc)\n",
        "print('******************************************************************')\n",
        "\n",
        "# Third iteration\n",
        "X_test = block2[:,0:10]\n",
        "Y_test = block2[:,10:11]\n",
        "X =  np.ma.row_stack ((block3,block4,block1))\n",
        "X_train = X[:,0:10]\n",
        "Y_train = X[:,10:11]\n",
        "\n",
        "param3  = model(10,2,1,20000,X_train,Y_train, lr)\n",
        "test_acc.append(acc_check(X_test,Y_test,param3))\n",
        "prediction = predict(param3[\"W1\"], param3[\"W2\"], param3[\"b1\"], param3[\"b2\"],X_test)\n",
        "P, R, A = confusion_mat(prediction,len(X_test),Y_test)\n",
        "print('Precision, Recall, F1 Score :',(P,R,A))\n",
        "Precision.append(P), Recall.append(R), F1.append(A)\n",
        "print('Test Accuracy :', test_acc)\n",
        "print('******************************************************************')\n",
        "\n",
        "\n",
        "# Fourth iteration\n",
        "X_test = block1[:,0:10]\n",
        "Y_test = block1[:,10:11]\n",
        "X =  np.ma.row_stack ((block2,block3,block4))\n",
        "X_train = X[:,0:10]\n",
        "Y_train = X[:,10:11]\n",
        "\n",
        "param4  = model(10,2,1,20000,X_train,Y_train, lr)\n",
        "test_acc.append(acc_check(X_test,Y_test,param4))\n",
        "prediction = predict(param4[\"W1\"], param4[\"W2\"], param4[\"b1\"], param4[\"b2\"],X_test)\n",
        "P, R, A = confusion_mat(prediction,len(X_test),Y_test)\n",
        "print('Precision, Recall, F1 Score :',(P,R,A))\n",
        "Precision.append(P), Recall.append(R), F1.append(A)\n",
        "print('Test Accuracy :', test_acc)\n",
        "print('******************************************************************')\n",
        "\n",
        "Overall_accuracy = sum(test_acc)/len(test_acc)\n",
        "Overall_precision = sum(Precision)/len(Precision)\n",
        "Overall_Recall = sum(Recall)/len(Recall)\n",
        "Overall_F1score = sum(F1)/len(F1)\n",
        "print(Overall_accuracy,Overall_precision,Overall_Recall,Overall_F1score)"
      ],
      "metadata": {
        "id": "rQwjynVA8GaW",
        "outputId": "2d3c7044-9afe-424e-cb61-737465b646fc",
        "colab": {
          "base_uri": "https://localhost:8080/"
        }
      },
      "execution_count": 15,
      "outputs": [
        {
          "output_type": "stream",
          "name": "stdout",
          "text": [
            "Precision, Recall, F1 Score : (1.0, 1.0, 1.0)\n",
            "Test Accuracy : [100.0]\n",
            "******************************************************************\n",
            "Precision, Recall, F1 Score : (0.75, 1.0, 0.8571428571428571)\n",
            "Test Accuracy : [100.0, 99.21875]\n",
            "******************************************************************\n",
            "Precision, Recall, F1 Score : (0.75, 1.0, 0.8571428571428571)\n",
            "Test Accuracy : [100.0, 99.21875, 98.828125]\n",
            "******************************************************************\n",
            "Precision, Recall, F1 Score : (0.8, 1.0, 0.888888888888889)\n",
            "Test Accuracy : [100.0, 99.21875, 98.828125, 99.21875]\n",
            "******************************************************************\n",
            "99.31640625 0.825 1.0 0.9007936507936508\n"
          ]
        }
      ]
    },
    {
      "cell_type": "markdown",
      "source": [
        "## Taking Best Parameter out of 4 fold cross validation and predicting for complete dataset. The best parameter in our case is Param1"
      ],
      "metadata": {
        "id": "1DtXMfftWyqc"
      }
    },
    {
      "cell_type": "code",
      "source": [
        "param1"
      ],
      "metadata": {
        "colab": {
          "base_uri": "https://localhost:8080/"
        },
        "id": "-pyV0fSlX_pr",
        "outputId": "8a0e202a-c75d-4643-e263-7c3cf03feb4f"
      },
      "execution_count": 16,
      "outputs": [
        {
          "output_type": "execute_result",
          "data": {
            "text/plain": [
              "{'W1': masked_array(\n",
              "   data=[[-21.77224898,  21.94907224],\n",
              "         [  7.97364235,  -7.96508484],\n",
              "         [ -4.07486329,   4.02970059],\n",
              "         [-31.73752522,  32.00366465],\n",
              "         [ 15.89298977, -16.04859626],\n",
              "         [-15.90364381,  15.97546681],\n",
              "         [ 31.57151617, -31.99467428],\n",
              "         [  3.80874128,  -3.89739171],\n",
              "         [ -7.90998596,   7.96484884],\n",
              "         [ 21.85084045, -22.02381789]],\n",
              "   mask=False,\n",
              "   fill_value=1e+20),\n",
              " 'W2': masked_array(\n",
              "   data=[[-30.32890392],\n",
              "         [-29.27637515]],\n",
              "   mask=False,\n",
              "   fill_value=1e+20),\n",
              " 'b1': array([[-1.69014743, -1.69014743]]),\n",
              " 'b2': array([[13.02137934]])}"
            ]
          },
          "metadata": {},
          "execution_count": 16
        }
      ]
    },
    {
      "cell_type": "code",
      "source": [
        "# prediction for whole dataset based on the finalized weights\n",
        "pred_test = predict(param1[\"W1\"], param1[\"W2\"], param1[\"b1\"], param1[\"b2\"],data[:,0:10])\n",
        "test_accu = compute_metric(data[:,10:11],pred_test)\n",
        "print(test_accu)"
      ],
      "metadata": {
        "colab": {
          "base_uri": "https://localhost:8080/"
        },
        "id": "MEuBmr1t2KnB",
        "outputId": "733bcefd-8cde-4e9a-b3e4-474df4c38f57"
      },
      "execution_count": 17,
      "outputs": [
        {
          "output_type": "stream",
          "name": "stdout",
          "text": [
            "100.0\n"
          ]
        }
      ]
    },
    {
      "cell_type": "code",
      "source": [
        "import seaborn as sns\n",
        "from sklearn.metrics import confusion_matrix"
      ],
      "metadata": {
        "id": "CIoOfbpfoSLV"
      },
      "execution_count": 18,
      "outputs": []
    },
    {
      "cell_type": "code",
      "source": [
        "# Compute confusion matrix\n",
        "cm = confusion_matrix(data[:,10:11], pred_test)\n",
        "\n",
        "# Plot confusion matrix as heatmap\n",
        "plt.figure(figsize=(8, 6))\n",
        "sns.heatmap(cm, annot=True, fmt=\"d\", cmap=\"Blues\",\n",
        "            xticklabels=['Predicted Negative', 'Predicted Positive'],\n",
        "            yticklabels=['Actual Negative', 'Actual Positive'])\n",
        "plt.title('Confusion Matrix')\n",
        "plt.xlabel('Predicted label')\n",
        "plt.ylabel('True label')\n",
        "plt.show()"
      ],
      "metadata": {
        "colab": {
          "base_uri": "https://localhost:8080/",
          "height": 564
        },
        "id": "bvsqtCxx2GJT",
        "outputId": "8a7b99b2-d413-4eaa-cca2-6195f42836a4"
      },
      "execution_count": 19,
      "outputs": [
        {
          "output_type": "display_data",
          "data": {
            "text/plain": [
              "<Figure size 800x600 with 2 Axes>"
            ],
            "image/png": "[encoded data removed]"
          },
          "metadata": {}
        }
      ]
    },
    {
      "cell_type": "code",
      "source": [
        "import seaborn as sns\n",
        "\n",
        "sns.heatmap(param1['W1'], annot=True)"
      ],
      "metadata": {
        "id": "9kcNbxm6sLv8",
        "colab": {
          "base_uri": "https://localhost:8080/",
          "height": 447
        },
        "outputId": "3027a16a-c880-4a7d-9051-1480510dfe76"
      },
      "execution_count": 20,
      "outputs": [
        {
          "output_type": "execute_result",
          "data": {
            "text/plain": [
              "<Axes: >"
            ]
          },
          "metadata": {},
          "execution_count": 20
        },
        {
          "output_type": "display_data",
          "data": {
            "text/plain": [
              "<Figure size 640x480 with 2 Axes>"
            ],
            "image/png": "[encoded data removed]"
          },
          "metadata": {}
        }
      ]
    },
    {
      "cell_type": "code",
      "source": [],
      "metadata": {
        "id": "i-RHpsyRC2EW"
      },
      "execution_count": 20,
      "outputs": []
    }
  ]
}